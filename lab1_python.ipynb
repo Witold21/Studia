{
  "cells": [
    {
      "cell_type": "markdown",
      "id": "77860db5",
      "metadata": {
        "id": "77860db5"
      },
      "source": [
        "## Lab 1 - Python wprowadzenie\n",
        "### Sieci Neuronowe w Automatyce\n",
        "\n",
        "* informacje do poleceń bez odwołań do dokumentacji znajdują się w notebooku z wykładu (w1_python_wprowadzenie.ipynb)\n",
        "* komórki mają postać tekstu (markdown) lub kodu\n",
        "* Ctrl + MM (Esc + M jupyter lokalnie) przełącza w tryb tekstowy\n",
        "* Ctrl + MY (Esc + Y jupyter lokalnie) przełącza w tryb kodu\n",
        "* Komórkę wykonujemy wciskając Shift + Enter\n",
        "* Po wykonaniu komórki drukowana jest wartość z ostatniej linii komórki (uwaga: operator \"przypisania\" = nic nie zwraca, więc nic się nie drukuje, jeśli w ostatniej linii mamy przypisanie\n",
        "* Wydruk z dowolnego miejsca w kodzie można zrobić funkcją print()"
      ]
    },
    {
      "cell_type": "markdown",
      "id": "6535a91a",
      "metadata": {
        "id": "6535a91a"
      },
      "source": [
        "### Część 1 - Podstawy (3 pkt.)"
      ]
    },
    {
      "cell_type": "markdown",
      "id": "92ebf866",
      "metadata": {
        "id": "92ebf866"
      },
      "source": [
        "1.1 (0.25 pkt.) Zdefiniuj przykładowe zmienne różnych typów (int, float, string, lista, krotka, słownik), wydrukuj ich zawartość oraz typ (za pomocą funkcji type)"
      ]
    },
    {
      "cell_type": "code",
      "execution_count": 2,
      "id": "fc13ee21",
      "metadata": {
        "colab": {
          "base_uri": "https://localhost:8080/",
          "height": 0
        },
        "id": "fc13ee21",
        "outputId": "139e8078-1ee2-4522-bee1-ed8d8bb84be0"
      },
      "outputs": [
        {
          "output_type": "stream",
          "name": "stdout",
          "text": [
            "10 <class 'int'>\n",
            "5.5 <class 'float'>\n",
            "napis <class 'str'>\n",
            "[1, 2, 3, 4, 5, 6, 70] <class 'list'>\n",
            "(1, 12, 4, 5, 6, 88, 553, 21234) <class 'tuple'>\n",
            "{'s1': 'f1', 's2': 'f2'} <class 'dict'>\n"
          ]
        }
      ],
      "source": [
        "intt  = 10\n",
        "floatt = 5.5\n",
        "sstringg = \"napis\"\n",
        "listaa =  [ 1,2,3,4,5,6,70]\n",
        "krotkaa = (1 ,12, 4, 5,6 ,88, 553, 21234)\n",
        "slownikk =  {\"s1\": \"f1\", \"s2\":\"f2\"}\n",
        "print(intt, type(intt))\n",
        "print(floatt, type(floatt))\n",
        "print(sstringg, type(sstringg))\n",
        "print(listaa, type(listaa))\n",
        "print(krotkaa, type(krotkaa))\n",
        "print(slownikk, type(slownikk))"
      ]
    },
    {
      "cell_type": "markdown",
      "id": "4a672a46",
      "metadata": {
        "id": "4a672a46"
      },
      "source": [
        "1.2 (0.25 pkt.) Zdefiniuj listę pięciu liczb. Wydrukuj jej długość (funkcją len) i sumę (funkcją sum)."
      ]
    },
    {
      "cell_type": "code",
      "execution_count": 3,
      "id": "e23268f9",
      "metadata": {
        "colab": {
          "base_uri": "https://localhost:8080/",
          "height": 0
        },
        "id": "e23268f9",
        "outputId": "b3029a59-becd-4bdc-974a-c9a7ea2afe30"
      },
      "outputs": [
        {
          "output_type": "stream",
          "name": "stdout",
          "text": [
            "5\n",
            "150\n"
          ]
        }
      ],
      "source": [
        "lista = [10, 20, 30, 40, 50]\n",
        "print(len(lista))\n",
        "print(sum(lista))\n"
      ]
    },
    {
      "cell_type": "markdown",
      "id": "837e5411",
      "metadata": {
        "id": "837e5411"
      },
      "source": [
        "1.3 (0.5 pkt.) Napisz instrukcję warunkową sprawdzającą czy dana liczba jest podzielna przez 2 (operator modulo to %)"
      ]
    },
    {
      "cell_type": "code",
      "execution_count": 5,
      "id": "7885fd87",
      "metadata": {
        "colab": {
          "base_uri": "https://localhost:8080/",
          "height": 0
        },
        "id": "7885fd87",
        "outputId": "fdb54ad3-31bb-4a8b-8c29-e3ca562b0eef"
      },
      "outputs": [
        {
          "output_type": "stream",
          "name": "stdout",
          "text": [
            "podzielna przez 2\n"
          ]
        }
      ],
      "source": [
        "liczba = 8\n",
        "if liczba % 2 == 0:\n",
        "    print(\"podzielna przez 2\")\n",
        "else:\n",
        "    print(\"nie podzielna przez 2\")\n"
      ]
    },
    {
      "cell_type": "markdown",
      "id": "95bc3a78",
      "metadata": {
        "id": "95bc3a78"
      },
      "source": [
        "1.4 (1 pkt.) Zdefiniuj listę 5 liczb i utwórz słownik, zawierający liczby wystąpień elementów na liście. Np. dla listy [1, 2, 1, 3, 2] chcemy dostać {1: 2, 2: 2, 3: 1}. Wykorzystać pętlę for i funkcję get klasy dict z wartością domyślną 0."
      ]
    },
    {
      "cell_type": "code",
      "execution_count": 4,
      "id": "52bcb541",
      "metadata": {
        "colab": {
          "base_uri": "https://localhost:8080/",
          "height": 0
        },
        "id": "52bcb541",
        "outputId": "07693d58-ebad-41f6-cadc-f728eaad1730"
      },
      "outputs": [
        {
          "output_type": "stream",
          "name": "stdout",
          "text": [
            "{1: 2, 2: 2, 3: 1}\n"
          ]
        }
      ],
      "source": [
        "lista = [1, 2, 1, 3, 2]\n",
        "count = {}\n",
        "for liczba in lista:\n",
        "    count[liczba] = count.get(liczba, 0) + 1\n",
        "print(count)\n"
      ]
    },
    {
      "cell_type": "markdown",
      "id": "3523c626",
      "metadata": {
        "id": "3523c626"
      },
      "source": [
        "1.5 (1 pkt.) Napisz funkcję sprawdzającą, czy dana liczba $n$ jest pierwsza. Funkcja powinna zwracać wartość logiczną. Należy sprawdzać, czy dana liczb dzieli się przez jakąś liczbę całkowitą z zakresu <2, $\\sqrt{n}$>. Zaimportować bibliotekę math (import math) i wykorzystać math.sqrt"
      ]
    },
    {
      "cell_type": "code",
      "execution_count": 9,
      "id": "fa586f7e",
      "metadata": {
        "colab": {
          "base_uri": "https://localhost:8080/",
          "height": 0
        },
        "id": "fa586f7e",
        "outputId": "94da836c-6786-4f77-8260-e8f474e4a28d"
      },
      "outputs": [
        {
          "output_type": "stream",
          "name": "stdout",
          "text": [
            "True\n",
            "True\n"
          ]
        }
      ],
      "source": [
        "import math as mt\n",
        "\n",
        "def czypierwsza(n):\n",
        "    if n < 2:\n",
        "        return False\n",
        "    for i in range(2, int(mt.sqrt(n)) + 1):\n",
        "        if n % i == 0:\n",
        "            return False\n",
        "    return True\n",
        "\n",
        "print(czypierwsza(104729))\n",
        "print(czypierwsza(103991 ))\n"
      ]
    },
    {
      "cell_type": "markdown",
      "id": "eff1e7c1",
      "metadata": {
        "id": "eff1e7c1"
      },
      "source": [
        "### Część 2 - NumPy (3.5 pkt.)\n",
        "\n",
        "Żadne z zadań w tej częsci nie wymaga użycia pętli for."
      ]
    },
    {
      "cell_type": "markdown",
      "id": "1ab53c55",
      "metadata": {
        "id": "1ab53c55"
      },
      "source": [
        "2.1 (0.5 pkt.) Utwórz jednowymiarową macierz NumPy zawierającą liczby od 1 do 9 (łącznie z 9). Użyj np.arange. Zapisz tę macierz pod zmienną a. Wydrukuj.\n",
        "\n",
        "Wybierz i wydrukuj elementy o indeksach od 2 do 5 (łącznie z elementem o indeksie 5)."
      ]
    },
    {
      "cell_type": "code",
      "execution_count": 10,
      "id": "86324b00",
      "metadata": {
        "colab": {
          "base_uri": "https://localhost:8080/",
          "height": 0
        },
        "id": "86324b00",
        "outputId": "7018e4d2-e3d8-4e22-9e6d-4bfdf4e4bb29"
      },
      "outputs": [
        {
          "output_type": "stream",
          "name": "stdout",
          "text": [
            "[1 2 3 4 5 6 7 8 9]\n",
            "[3 4 5 6]\n"
          ]
        }
      ],
      "source": [
        "import numpy as np\n",
        "\n",
        "a = np.arange(1, 10)\n",
        "print(a)\n",
        "print(a[2:6])"
      ]
    },
    {
      "cell_type": "markdown",
      "id": "f90e7864",
      "metadata": {
        "id": "f90e7864"
      },
      "source": [
        "2.2 (0.5 pkt.) Utwórz macierz A, przekształcając macierz a do kształtu 3 x 3. Użyj funkcji reshape. Wydrukuj.\n",
        "\n",
        "Wybierz drugą (o indeksie 1) kolumnę macierzy i wydrukuj."
      ]
    },
    {
      "cell_type": "code",
      "execution_count": 14,
      "id": "4993693e",
      "metadata": {
        "colab": {
          "base_uri": "https://localhost:8080/",
          "height": 0
        },
        "id": "4993693e",
        "outputId": "dae7c949-faaf-4879-cd8a-1e310a730b2b"
      },
      "outputs": [
        {
          "output_type": "stream",
          "name": "stdout",
          "text": [
            "[[1 2 3]\n",
            " [4 5 6]\n",
            " [7 8 9]]\n",
            "\n",
            "\n",
            "[2 5 8]\n"
          ]
        }
      ],
      "source": [
        "A = a.reshape(3, 3)\n",
        "print(A)\n",
        "print('\\n')\n",
        "print(A[:, 1])"
      ]
    },
    {
      "cell_type": "markdown",
      "id": "f1f13481",
      "metadata": {
        "id": "f1f13481"
      },
      "source": [
        "2.3 (0.5 pkt.) Utwórz macierz B o wymiarze 3 x 3 zawierającą same dwójki (np.ones i  mnożenie przez 2)\n",
        "\n",
        "* Policz sumę i iloczyn macierzy A i B element po elemencie.\n",
        "* Policz macierzowy iloczyn macierzy A i B\n",
        "* Policz sinus każdego elementu macierzy A"
      ]
    },
    {
      "cell_type": "code",
      "execution_count": 17,
      "id": "3f5889f5",
      "metadata": {
        "colab": {
          "base_uri": "https://localhost:8080/",
          "height": 0
        },
        "id": "3f5889f5",
        "outputId": "3eff562f-3502-4df6-dde8-00c11b186a3c"
      },
      "outputs": [
        {
          "output_type": "stream",
          "name": "stdout",
          "text": [
            "[[2. 2. 2.]\n",
            " [2. 2. 2.]\n",
            " [2. 2. 2.]]\n",
            "\n",
            "\n",
            "[[ 3.  4.  5.]\n",
            " [ 6.  7.  8.]\n",
            " [ 9. 10. 11.]]\n",
            "\n",
            "\n",
            "[[ 2.  4.  6.]\n",
            " [ 8. 10. 12.]\n",
            " [14. 16. 18.]]\n",
            "\n",
            "\n",
            "[[12. 12. 12.]\n",
            " [30. 30. 30.]\n",
            " [48. 48. 48.]]\n",
            "\n",
            "\n",
            "[[ 0.84147098  0.90929743  0.14112001]\n",
            " [-0.7568025  -0.95892427 -0.2794155 ]\n",
            " [ 0.6569866   0.98935825  0.41211849]]\n"
          ]
        }
      ],
      "source": [
        "B = np.ones((3, 3)) * 2\n",
        "print(B)\n",
        "print('\\n')\n",
        "print(A + B)\n",
        "print('\\n')\n",
        "print(A * B)\n",
        "print('\\n')\n",
        "print(A @ B)\n",
        "print('\\n')\n",
        "print(np.sin(A))\n"
      ]
    },
    {
      "cell_type": "markdown",
      "id": "c03cf97b",
      "metadata": {
        "id": "c03cf97b"
      },
      "source": [
        "2.4 (0.5 pkt.) Utwórz macierze c = np.array([[1], [2], [3]]) i  d = np.array([1, 2, 3]).\n",
        "\n",
        "Jaki jest wyniki A + c i A + d? Dlaczego? Odpowiedź na pytanie dlaczego napisz w komórce typu markdown (Esc + M)."
      ]
    },
    {
      "cell_type": "code",
      "execution_count": 18,
      "id": "1b33020c",
      "metadata": {
        "colab": {
          "base_uri": "https://localhost:8080/",
          "height": 0
        },
        "id": "1b33020c",
        "outputId": "15745bb1-83b5-4c1b-cfe0-ad4d675b4c13"
      },
      "outputs": [
        {
          "output_type": "stream",
          "name": "stdout",
          "text": [
            "[[ 2  3  4]\n",
            " [ 6  7  8]\n",
            " [10 11 12]]\n",
            "\n",
            "\n",
            "[[ 2  4  6]\n",
            " [ 5  7  9]\n",
            " [ 8 10 12]]\n"
          ]
        }
      ],
      "source": [
        "c = np.array([[1], [2], [3]])\n",
        "d = np.array([1, 2, 3])\n",
        "\n",
        "print(A + c)\n",
        "print('\\n')\n",
        "print(A + d)\n",
        "#nie działa mi esc + m\n",
        "#kolumny i wiersze c i d dodaja sie do kazdej kolumny macierzy A przez broadcasting czyli operacje mimo spprzecznosci wymiarów"
      ]
    },
    {
      "cell_type": "markdown",
      "id": "d0492443",
      "metadata": {
        "id": "d0492443"
      },
      "source": [
        "2.5 (0.5 pkt.) Utwórz macierz wartości logicznych wskazującą, które wartości macierzy A są większe od 4.\n",
        "\n",
        "Użyj tej macierzy do wybrania tych elementów macierzy A, które są większe od 4."
      ]
    },
    {
      "cell_type": "code",
      "execution_count": 20,
      "id": "6a4bc507",
      "metadata": {
        "colab": {
          "base_uri": "https://localhost:8080/",
          "height": 0
        },
        "id": "6a4bc507",
        "outputId": "03cb7fa6-c9e3-478a-e945-23e9964a692b"
      },
      "outputs": [
        {
          "output_type": "stream",
          "name": "stdout",
          "text": [
            "[[False False False]\n",
            " [False  True  True]\n",
            " [ True  True  True]]\n",
            "\n",
            "\n",
            "[5 6 7 8 9]\n"
          ]
        }
      ],
      "source": [
        "wieksze4 = A > 4\n",
        "print(wieksze4)\n",
        "\n",
        "print('\\n')\n",
        "print(A[wieksze4])\n"
      ]
    },
    {
      "cell_type": "markdown",
      "id": "5b51a731",
      "metadata": {
        "id": "5b51a731"
      },
      "source": [
        "2.6 (1 pkt.) Dla wartości x = np.arange(-5, 5, 1) i y = np.arange(-5, 5, 1). Utwórz siatkę zawierającą odległość od punktu (0, 0) dla każdego punktu. Zastosuj broadcasting. Nie stosuj pętli for."
      ]
    },
    {
      "cell_type": "code",
      "execution_count": 21,
      "id": "7f7dbe30",
      "metadata": {
        "colab": {
          "base_uri": "https://localhost:8080/",
          "height": 0
        },
        "id": "7f7dbe30",
        "outputId": "d26c9685-bee1-40b9-a907-7352e9d9a13f"
      },
      "outputs": [
        {
          "output_type": "stream",
          "name": "stdout",
          "text": [
            "[[7.07106781 6.40312424 5.83095189 5.38516481 5.09901951 5.\n",
            "  5.09901951 5.38516481 5.83095189 6.40312424]\n",
            " [6.40312424 5.65685425 5.         4.47213595 4.12310563 4.\n",
            "  4.12310563 4.47213595 5.         5.65685425]\n",
            " [5.83095189 5.         4.24264069 3.60555128 3.16227766 3.\n",
            "  3.16227766 3.60555128 4.24264069 5.        ]\n",
            " [5.38516481 4.47213595 3.60555128 2.82842712 2.23606798 2.\n",
            "  2.23606798 2.82842712 3.60555128 4.47213595]\n",
            " [5.09901951 4.12310563 3.16227766 2.23606798 1.41421356 1.\n",
            "  1.41421356 2.23606798 3.16227766 4.12310563]\n",
            " [5.         4.         3.         2.         1.         0.\n",
            "  1.         2.         3.         4.        ]\n",
            " [5.09901951 4.12310563 3.16227766 2.23606798 1.41421356 1.\n",
            "  1.41421356 2.23606798 3.16227766 4.12310563]\n",
            " [5.38516481 4.47213595 3.60555128 2.82842712 2.23606798 2.\n",
            "  2.23606798 2.82842712 3.60555128 4.47213595]\n",
            " [5.83095189 5.         4.24264069 3.60555128 3.16227766 3.\n",
            "  3.16227766 3.60555128 4.24264069 5.        ]\n",
            " [6.40312424 5.65685425 5.         4.47213595 4.12310563 4.\n",
            "  4.12310563 4.47213595 5.         5.65685425]]\n"
          ]
        }
      ],
      "source": [
        "x = np.arange(-5, 5, 1)\n",
        "y = np.arange(-5, 5, 1)\n",
        "X, Y = np.meshgrid(x, y)\n",
        "odleglosc = np.sqrt(X**2 + Y**2)\n",
        "print(odleglosc)\n"
      ]
    },
    {
      "cell_type": "markdown",
      "id": "f4a7ca30",
      "metadata": {
        "id": "f4a7ca30"
      },
      "source": [
        "### Część 3 - Pandas (3.5 pkt.)\n",
        "\n",
        "Biblioteka pandas jest narzędziem do przetwarzania danych tabelarycznych. Będziemy z niej korzystać w dalszych ćwiczeniach."
      ]
    },
    {
      "cell_type": "markdown",
      "id": "097537fc",
      "metadata": {
        "id": "097537fc"
      },
      "source": [
        "3.1 (0.5 pkt.) Zaimportuj bibliotekę pandas i nadaj jej alias pd.\n",
        "\n",
        "Utwórz obiekt klasy DataFrame o nazwie df zawierający dane (wykorzystaj przykład (np. pierwszy) z dokumentacji https://pandas.pydata.org/docs/reference/api/pandas.DataFrame.html):\n",
        "\n",
        "Dane z kolumny \"Czas\" podaj jako napisy, a dane z kolumn z temperaturą i ciśnieniem jako liczby.\n",
        "\n",
        "\n",
        "| Czas               | Temperatura (°C) | Ciśnienie (Pa) |\n",
        "|--------------------|------------------|----------------|\n",
        "| 2024-10-14 08:00:00| 22.5             | 101325         |\n",
        "| 2024-10-14 09:00:00| 23.0             | 101400         |\n",
        "| 2024-10-14 10:00:00| 22.8             | 101350         |\n",
        "| 2024-10-14 11:00:00| 23.2             | 101420         |\n",
        "\n",
        "Wyświetl zawartość utworzonej zmiennej."
      ]
    },
    {
      "cell_type": "code",
      "source": [
        "import pandas as pd\n",
        "\n",
        "data = {\n",
        "    \"Czas\": [\"2024-10-14 08:00:00\", \"2024-10-14 09:00:00\", \"2024-10-14 10:00:00\", \"2024-10-14 11:00:00\"],\n",
        "    \"Temperatura (°C)\": [22.5, 23.0, 22.8, 23.2],\n",
        "    \"Ciśnienie (Pa)\": [101325, 101400, 101350, 101420]}\n",
        "\n",
        "df = pd.DataFrame(data)\n",
        "print(df)\n"
      ],
      "metadata": {
        "colab": {
          "base_uri": "https://localhost:8080/",
          "height": 0
        },
        "id": "A2_51CRBgF_U",
        "outputId": "c9fef2ce-8fbf-4c8a-b02e-e91f32cef889"
      },
      "id": "A2_51CRBgF_U",
      "execution_count": 31,
      "outputs": [
        {
          "output_type": "stream",
          "name": "stdout",
          "text": [
            "                  Czas  Temperatura (°C)  Ciśnienie (Pa)\n",
            "0  2024-10-14 08:00:00              22.5          101325\n",
            "1  2024-10-14 09:00:00              23.0          101400\n",
            "2  2024-10-14 10:00:00              22.8          101350\n",
            "3  2024-10-14 11:00:00              23.2          101420\n"
          ]
        }
      ]
    },
    {
      "cell_type": "markdown",
      "id": "4508bab6",
      "metadata": {
        "id": "4508bab6"
      },
      "source": [
        "3.2 (0.5 pkt.) Wybierz zawartość kolumny czas i wyświetl jej zawartość.\n",
        "Kolumny wybieramy jako df[\\<nazwa kolumny\\>].\n",
        "\n",
        "Zamień zawartość kolumny \"Czas\" na typ datetime (pd.to_datetime(\\<wybrana kolumna\\>)) i podstaw pod kolumnę \"Czas\""
      ]
    },
    {
      "cell_type": "code",
      "execution_count": 32,
      "id": "7485a51f",
      "metadata": {
        "colab": {
          "base_uri": "https://localhost:8080/",
          "height": 0
        },
        "id": "7485a51f",
        "outputId": "d84cd4b6-6db9-4bfc-d468-d105b0fbd093"
      },
      "outputs": [
        {
          "output_type": "stream",
          "name": "stdout",
          "text": [
            "0    2024-10-14 08:00:00\n",
            "1    2024-10-14 09:00:00\n",
            "2    2024-10-14 10:00:00\n",
            "3    2024-10-14 11:00:00\n",
            "Name: Czas, dtype: object\n",
            "\n",
            "\n",
            "                 Czas  Temperatura (°C)  Ciśnienie (Pa)\n",
            "0 2024-10-14 08:00:00              22.5          101325\n",
            "1 2024-10-14 09:00:00              23.0          101400\n",
            "2 2024-10-14 10:00:00              22.8          101350\n",
            "3 2024-10-14 11:00:00              23.2          101420\n"
          ]
        }
      ],
      "source": [
        "print(df[\"Czas\"])\n",
        "df[\"Czas\"] = pd.to_datetime(df[\"Czas\"])\n",
        "print('\\n')\n",
        "print(df)"
      ]
    },
    {
      "cell_type": "markdown",
      "id": "076126c8",
      "metadata": {
        "id": "076126c8"
      },
      "source": [
        "3.3 (1 pkt.) Utwórz kolumnę \"Temperatura (°C) (k-1)\" zawierającą temperaturę z poprzedniej godziny. Uzyj funkcji shift (https://pandas.pydata.org/docs/reference/api/pandas.DataFrame.shift.html)."
      ]
    },
    {
      "cell_type": "code",
      "execution_count": 33,
      "id": "194dcdb6",
      "metadata": {
        "colab": {
          "base_uri": "https://localhost:8080/",
          "height": 0
        },
        "id": "194dcdb6",
        "outputId": "71d816bb-9734-4c3d-d548-bcee46940315"
      },
      "outputs": [
        {
          "output_type": "stream",
          "name": "stdout",
          "text": [
            "                 Czas  Temperatura (°C)  Ciśnienie (Pa)  \\\n",
            "0 2024-10-14 08:00:00              22.5          101325   \n",
            "1 2024-10-14 09:00:00              23.0          101400   \n",
            "2 2024-10-14 10:00:00              22.8          101350   \n",
            "3 2024-10-14 11:00:00              23.2          101420   \n",
            "\n",
            "   Temperatura (°C) (k-1)  \n",
            "0                     NaN  \n",
            "1                    22.5  \n",
            "2                    23.0  \n",
            "3                    22.8  \n"
          ]
        }
      ],
      "source": [
        "df[\"Temperatura (°C) (k-1)\"] = df[\"Temperatura (°C)\"].shift(1)\n",
        "print(df)"
      ]
    },
    {
      "cell_type": "markdown",
      "id": "d93a0118",
      "metadata": {
        "id": "d93a0118"
      },
      "source": [
        "3.4 (1.5 pkt.) Utwórz jeden wykres zawierający wartości z kolumn \"Temperatura (°C)\" i \"Temperatura (°C) (k-1)\" jako wykresy liniowe. Użyj biblioteki matplotlib. Dodaj opis osi i legendę."
      ]
    },
    {
      "cell_type": "code",
      "execution_count": 36,
      "id": "925e5130",
      "metadata": {
        "colab": {
          "base_uri": "https://localhost:8080/",
          "height": 472
        },
        "id": "925e5130",
        "outputId": "730e201b-4f09-4ef1-a8c4-7c0442e1021a"
      },
      "outputs": [
        {
          "output_type": "display_data",
          "data": {
            "text/plain": [
              "<Figure size 640x480 with 1 Axes>"
            ],
            "image/png": "[encoded data removed]"
          },
          "metadata": {}
        }
      ],
      "source": [
        "import matplotlib.pyplot as plt\n",
        "\n",
        "plt.plot(df[\"Czas\"], df[\"Temperatura (°C)\"], label=\"Temperatura (°C)\")\n",
        "plt.plot(df[\"Czas\"], df[\"Temperatura (°C) (k-1)\"], label=\"Temperatura (°C) (k-1)\")\n",
        "\n",
        "plt.xlabel(\"Czas\")\n",
        "plt.ylabel(\"Temperatura (°C)\")\n",
        "plt.legend()\n",
        "plt.title(\"Temperatury\")\n",
        "plt.show()\n"
      ]
    }
  ],
  "metadata": {
    "kernelspec": {
      "display_name": "Python 3 (ipykernel)",
      "language": "python",
      "name": "python3"
    },
    "language_info": {
      "codemirror_mode": {
        "name": "ipython",
        "version": 3
      },
      "file_extension": ".py",
      "mimetype": "text/x-python",
      "name": "python",
      "nbconvert_exporter": "python",
      "pygments_lexer": "ipython3",
      "version": "3.11.10"
    },
    "colab": {
      "provenance": []
    }
  },
  "nbformat": 4,
  "nbformat_minor": 5
}