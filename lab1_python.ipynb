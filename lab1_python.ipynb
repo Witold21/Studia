{
  "cells": [
    {
      "cell_type": "markdown",
      "id": "77860db5",
      "metadata": {
        "id": "77860db5"
      },
      "source": [
        "## Lab 1 - Python wprowadzenie\n",
        "### Sieci Neuronowe w Automatyce\n",
        "\n",
        "* informacje do poleceń bez odwołań do dokumentacji znajdują się w notebooku z wykładu (w1_python_wprowadzenie.ipynb)\n",
        "* komórki mają postać tekstu (markdown) lub kodu\n",
        "* Ctrl + MM (Esc + M jupyter lokalnie) przełącza w tryb tekstowy\n",
        "* Ctrl + MY (Esc + Y jupyter lokalnie) przełącza w tryb kodu\n",
        "* Komórkę wykonujemy wciskając Shift + Enter\n",
        "* Po wykonaniu komórki drukowana jest wartość z ostatniej linii komórki (uwaga: operator \"przypisania\" = nic nie zwraca, więc nic się nie drukuje, jeśli w ostatniej linii mamy przypisanie\n",
        "* Wydruk z dowolnego miejsca w kodzie można zrobić funkcją print()"
      ]
    },
    {
      "cell_type": "markdown",
      "id": "6535a91a",
      "metadata": {
        "id": "6535a91a"
      },
      "source": [
        "### Część 1 - Podstawy (3 pkt.)"
      ]
    },
    {
      "cell_type": "markdown",
      "id": "92ebf866",
      "metadata": {
        "id": "92ebf866"
      },
      "source": [
        "1.1 (0.25 pkt.) Zdefiniuj przykładowe zmienne różnych typów (int, float, string, lista, krotka, słownik), wydrukuj ich zawartość oraz typ (za pomocą funkcji type)"
      ]
    },
    {
      "cell_type": "code",
      "execution_count": 7,
      "id": "fc13ee21",
      "metadata": {
        "colab": {
          "base_uri": "https://localhost:8080/"
        },
        "id": "fc13ee21",
        "outputId": "e1508c15-6754-459b-d184-e731c5c1b3b6"
      },
      "outputs": [
        {
          "output_type": "stream",
          "name": "stdout",
          "text": [
            "<class 'int'>\n",
            "<class 'float'>\n",
            "<class 'str'>\n",
            "<class 'list'>\n",
            "<class 'tuple'>\n",
            "<class 'dict'>\n"
          ]
        }
      ],
      "source": [
        "intt = 1\n",
        "floatt = 0.01\n",
        "stringg = \"witek\"\n",
        "listaa = [1 ,1 ,2 ]\n",
        "krotkaa = ( 1 ,2 ,3 , \"ola\")\n",
        "slownikk = { \"witold\":3 , \"jablonski\":4}\n",
        "print(type(intt))\n",
        "print(type(floatt))\n",
        "print(type(stringg))\n",
        "print(type(listaa))\n",
        "print(type(krotkaa))\n",
        "print(type(slownikk))"
      ]
    },
    {
      "cell_type": "markdown",
      "id": "4a672a46",
      "metadata": {
        "id": "4a672a46"
      },
      "source": [
        "1.2 (0.25 pkt.) Zdefiniuj listę pięciu liczb. Wydrukuj jej długość (funkcją len) i sumę (funkcją sum)."
      ]
    },
    {
      "cell_type": "code",
      "execution_count": 2,
      "id": "e23268f9",
      "metadata": {
        "colab": {
          "base_uri": "https://localhost:8080/"
        },
        "id": "e23268f9",
        "outputId": "1fcb6dd6-a471-4c33-ec41-6a73e84fd507"
      },
      "outputs": [
        {
          "output_type": "stream",
          "name": "stdout",
          "text": [
            "5\n",
            "15\n"
          ]
        }
      ],
      "source": [
        "listaa = [ 1, 2, 3, 4, 5]\n",
        "print(len(listaa))\n",
        "print(sum(listaa))"
      ]
    },
    {
      "cell_type": "markdown",
      "id": "837e5411",
      "metadata": {
        "id": "837e5411"
      },
      "source": [
        "1.3 (0.5 pkt.) Napisz instrukcję warunkową sprawdzającą czy dana liczba jest podzielna przez 2 (operator modulo to %)"
      ]
    },
    {
      "cell_type": "code",
      "execution_count": 8,
      "id": "7885fd87",
      "metadata": {
        "colab": {
          "base_uri": "https://localhost:8080/"
        },
        "id": "7885fd87",
        "outputId": "fe5c03a8-6014-4960-e7a5-3642ae9f677e"
      },
      "outputs": [
        {
          "output_type": "stream",
          "name": "stdout",
          "text": [
            "niepodzielna\n"
          ]
        }
      ],
      "source": [
        "if intt%2:\n",
        "  print(\"niepodzielna\")\n",
        "else:\n",
        "  print(\"podzielna\")"
      ]
    },
    {
      "cell_type": "markdown",
      "id": "95bc3a78",
      "metadata": {
        "id": "95bc3a78"
      },
      "source": [
        "1.4 (1 pkt.) Zdefiniuj listę 5 liczb i utwórz słownik, zawierający liczby wystąpień elementów na liście. Np. dla listy [1, 2, 1, 3, 2] chcemy dostać {1: 2, 2: 2, 3: 1}. Wykorzystać pętlę for i funkcję get klasy dict z wartością domyślną 0."
      ]
    },
    {
      "cell_type": "code",
      "execution_count": 10,
      "id": "52bcb541",
      "metadata": {
        "colab": {
          "base_uri": "https://localhost:8080/"
        },
        "id": "52bcb541",
        "outputId": "9d2735ea-4624-4f9b-96a6-19111702d45b"
      },
      "outputs": [
        {
          "output_type": "stream",
          "name": "stdout",
          "text": [
            "{1: 1, 2: 2, 4: 1, 5: 1}\n"
          ]
        }
      ],
      "source": [
        "lista = [ 1 ,2 , 4 ,5 ,2 ]\n",
        "count = {}\n",
        "for liczba in lista:\n",
        "  count[liczba] = count.get(liczba, 0) + 1\n",
        "print (count)"
      ]
    },
    {
      "cell_type": "markdown",
      "id": "3523c626",
      "metadata": {
        "id": "3523c626"
      },
      "source": [
        "1.5 (1 pkt.) Napisz funkcję sprawdzającą, czy dana liczba $n$ jest pierwsza. Funkcja powinna zwracać wartość logiczną. Należy sprawdzać, czy dana liczb dzieli się przez jakąś liczbę całkowitą z zakresu <2, $\\sqrt{n}$>. Zaimportować bibliotekę math (import math) i wykorzystać math.sqrt"
      ]
    },
    {
      "cell_type": "code",
      "execution_count": null,
      "id": "fa586f7e",
      "metadata": {
        "id": "fa586f7e"
      },
      "outputs": [],
      "source": []
    },
    {
      "cell_type": "markdown",
      "id": "eff1e7c1",
      "metadata": {
        "id": "eff1e7c1"
      },
      "source": [
        "### Część 2 - NumPy (3.5 pkt.)\n",
        "\n",
        "Żadne z zadań w tej częsci nie wymaga użycia pętli for."
      ]
    },
    {
      "cell_type": "markdown",
      "id": "1ab53c55",
      "metadata": {
        "id": "1ab53c55"
      },
      "source": [
        "2.1 (0.5 pkt.) Utwórz jednowymiarową macierz NumPy zawierającą liczby od 1 do 9 (łącznie z 9). Użyj np.arange. Zapisz tę macierz pod zmienną a. Wydrukuj.\n",
        "\n",
        "Wybierz i wydrukuj elementy o indeksach od 2 do 5 (łącznie z elementem o indeksie 5)."
      ]
    },
    {
      "cell_type": "code",
      "execution_count": 22,
      "id": "86324b00",
      "metadata": {
        "colab": {
          "base_uri": "https://localhost:8080/"
        },
        "id": "86324b00",
        "outputId": "0ee2aa68-75b4-41ab-b40f-c730ddade5b1"
      },
      "outputs": [
        {
          "output_type": "stream",
          "name": "stdout",
          "text": [
            "[1 2 3 4 5 6 7 8 9]\n",
            "[2 3 4 5]\n"
          ]
        }
      ],
      "source": [
        "import numpy as np\n",
        "a = np.arange ( 1 , 10 ,1)\n",
        "print(a)\n",
        "print(a[1:5])"
      ]
    },
    {
      "cell_type": "markdown",
      "id": "f90e7864",
      "metadata": {
        "id": "f90e7864"
      },
      "source": [
        "2.2 (0.5 pkt.) Utwórz macierz A, przekształcając macierz a do kształtu 3 x 3. Użyj funkcji reshape. Wydrukuj.\n",
        "\n",
        "Wybierz drugą (o indeksie 1) kolumnę macierzy i wydrukuj."
      ]
    },
    {
      "cell_type": "code",
      "execution_count": 25,
      "id": "4993693e",
      "metadata": {
        "colab": {
          "base_uri": "https://localhost:8080/"
        },
        "id": "4993693e",
        "outputId": "7c352ae7-28d7-44e4-95cd-e9643ee9babd"
      },
      "outputs": [
        {
          "output_type": "stream",
          "name": "stdout",
          "text": [
            "[[1 2 3]\n",
            " [4 5 6]\n",
            " [7 8 9]]\n",
            "[2 5 8]\n"
          ]
        }
      ],
      "source": [
        "A = a.reshape(3,3)\n",
        "print (A)\n",
        "print (A[:,1])\n"
      ]
    },
    {
      "cell_type": "markdown",
      "id": "f1f13481",
      "metadata": {
        "id": "f1f13481"
      },
      "source": [
        "2.3 (0.5 pkt.) Utwórz macierz B o wymiarze 3 x 3 zawierającą same dwójki (np.ones i  mnożenie przez 2)\n",
        "\n",
        "* Policz sumę i iloczyn macierzy A i B element po elemencie.\n",
        "* Policz macierzowy iloczyn macierzy A i B\n",
        "* Policz sinus każdego elementu macierzy A"
      ]
    },
    {
      "cell_type": "code",
      "execution_count": 33,
      "id": "3f5889f5",
      "metadata": {
        "colab": {
          "base_uri": "https://localhost:8080/"
        },
        "id": "3f5889f5",
        "outputId": "3a2ceddd-e160-4199-e6f7-8ac2b2aeaa5e"
      },
      "outputs": [
        {
          "output_type": "stream",
          "name": "stdout",
          "text": [
            "[[2. 2. 2.]\n",
            " [2. 2. 2.]\n",
            " [2. 2. 2.]]\n",
            "[[ 3.  4.  5.]\n",
            " [ 6.  7.  8.]\n",
            " [ 9. 10. 11.]]\n",
            "[[ 2.  4.  6.]\n",
            " [ 8. 10. 12.]\n",
            " [14. 16. 18.]]\n",
            "[[ 0.84147098  0.90929743  0.14112001]\n",
            " [-0.7568025  -0.95892427 -0.2794155 ]\n",
            " [ 0.6569866   0.98935825  0.41211849]]\n"
          ]
        }
      ],
      "source": [
        "B = np.ones((3,3)) * 2\n",
        "print (B)\n",
        "X = A + B\n",
        "print (X)\n",
        "X = A * B\n",
        "print (X)\n",
        "Sinn = np.sin(A)\n",
        "print (Sinn)"
      ]
    },
    {
      "cell_type": "markdown",
      "id": "c03cf97b",
      "metadata": {
        "id": "c03cf97b"
      },
      "source": [
        "2.4 (0.5 pkt.) Utwórz macierze c = np.array([[1], [2], [3]]) i  d = np.array([1, 2, 3]).\n",
        "\n",
        "Jaki jest wyniki A + c i A + d? Dlaczego? Odpowiedź na pytanie dlaczego napisz w komórce typu markdown (Esc + M)."
      ]
    },
    {
      "cell_type": "markdown",
      "source": [
        "Dzien dobry, dodawanie zostało zastosowane dla kazdej kolumny i dla kazdego wiersza w zaleznosci od macierzy c i d\n"
      ],
      "metadata": {
        "id": "dGbGuAkDsKgA"
      },
      "id": "dGbGuAkDsKgA"
    },
    {
      "cell_type": "code",
      "execution_count": 35,
      "id": "1b33020c",
      "metadata": {
        "colab": {
          "base_uri": "https://localhost:8080/"
        },
        "id": "1b33020c",
        "outputId": "1777e38a-8a90-437f-ca77-ec70e9d05b8b"
      },
      "outputs": [
        {
          "output_type": "stream",
          "name": "stdout",
          "text": [
            "[[1 2 3]\n",
            " [4 5 6]\n",
            " [7 8 9]]\n",
            "[[1]\n",
            " [2]\n",
            " [3]]\n",
            "[1 2 3]\n",
            "[[ 2  3  4]\n",
            " [ 6  7  8]\n",
            " [10 11 12]]\n",
            "[[ 2  4  6]\n",
            " [ 5  7  9]\n",
            " [ 8 10 12]]\n"
          ]
        }
      ],
      "source": [
        "c = np.array([[1], [2], [3]])\n",
        "d = np.array([1, 2, 3])\n",
        "print(A)\n",
        "\n",
        "print(c)\n",
        "print(d)\n",
        "print (A + c)\n",
        "print (A + d)"
      ]
    },
    {
      "cell_type": "markdown",
      "id": "d0492443",
      "metadata": {
        "id": "d0492443"
      },
      "source": [
        "2.5 (0.5 pkt.) Utwórz macierz wartości logicznych wskazującą, które wartości macierzy A są większe od 4.\n",
        "\n",
        "Użyj tej macierzy do wybrania tych elementów macierzy A, które są większe od 4."
      ]
    },
    {
      "cell_type": "code",
      "execution_count": null,
      "id": "6a4bc507",
      "metadata": {
        "id": "6a4bc507"
      },
      "outputs": [],
      "source": []
    },
    {
      "cell_type": "markdown",
      "id": "5b51a731",
      "metadata": {
        "id": "5b51a731"
      },
      "source": [
        "2.6 (1 pkt.) Dla wartości x = np.arange(-5, 5, 1) i y = np.arange(-5, 5, 1). Utwórz siatkę zawierającą odległość od punktu (0, 0) dla każdego punktu. Zastosuj broadcasting. Nie stosuj pętli for."
      ]
    },
    {
      "cell_type": "code",
      "execution_count": null,
      "id": "7f7dbe30",
      "metadata": {
        "id": "7f7dbe30"
      },
      "outputs": [],
      "source": [
        "x = np.arange(-5, 5, 1)\n",
        "y = np.arange(-5, 5, 1)\n"
      ]
    },
    {
      "cell_type": "markdown",
      "id": "f4a7ca30",
      "metadata": {
        "id": "f4a7ca30"
      },
      "source": [
        "### Część 3 - Pandas (3.5 pkt.)\n",
        "\n",
        "Biblioteka pandas jest narzędziem do przetwarzania danych tabelarycznych. Będziemy z niej korzystać w dalszych ćwiczeniach."
      ]
    },
    {
      "cell_type": "markdown",
      "id": "097537fc",
      "metadata": {
        "id": "097537fc"
      },
      "source": [
        "3.1 (0.5 pkt.) Zaimportuj bibliotekę pandas i nadaj jej alias pd.\n",
        "\n",
        "Utwórz obiekt klasy DataFrame o nazwie df zawierający dane (wykorzystaj przykład (np. pierwszy) z dokumentacji https://pandas.pydata.org/docs/reference/api/pandas.DataFrame.html):\n",
        "\n",
        "Dane z kolumny \"Czas\" podaj jako napisy, a dane z kolumn z temperaturą i ciśnieniem jako liczby.\n",
        "\n",
        "\n",
        "| Czas               | Temperatura (°C) | Ciśnienie (Pa) |\n",
        "|--------------------|------------------|----------------|\n",
        "| 2024-10-14 08:00:00| 22.5             | 101325         |\n",
        "| 2024-10-14 09:00:00| 23.0             | 101400         |\n",
        "| 2024-10-14 10:00:00| 22.8             | 101350         |\n",
        "| 2024-10-14 11:00:00| 23.2             | 101420         |\n",
        "\n",
        "Wyświetl zawartość utworzonej zmiennej."
      ]
    },
    {
      "cell_type": "code",
      "execution_count": 38,
      "id": "27d3880b",
      "metadata": {
        "colab": {
          "base_uri": "https://localhost:8080/",
          "height": 332
        },
        "id": "27d3880b",
        "outputId": "be0c8437-1c1c-4456-aa60-73f955c44073"
      },
      "outputs": [
        {
          "output_type": "error",
          "ename": "ValueError",
          "evalue": "DataFrame constructor not properly called!",
          "traceback": [
            "\u001b[0;31m---------------------------------------------------------------------------\u001b[0m",
            "\u001b[0;31mValueError\u001b[0m                                Traceback (most recent call last)",
            "\u001b[0;32m<ipython-input-38-d0cb3ec9c152>\u001b[0m in \u001b[0;36m<cell line: 5>\u001b[0;34m()\u001b[0m\n\u001b[1;32m      3\u001b[0m \u001b[0;34m\u001b[0m\u001b[0m\n\u001b[1;32m      4\u001b[0m \u001b[0;34m\u001b[0m\u001b[0m\n\u001b[0;32m----> 5\u001b[0;31m \u001b[0mdf\u001b[0m \u001b[0;34m=\u001b[0m \u001b[0mpd\u001b[0m\u001b[0;34m.\u001b[0m\u001b[0mDataFrame\u001b[0m\u001b[0;34m(\u001b[0m\u001b[0;34m\"Czas\"\u001b[0m\u001b[0;34m)\u001b[0m\u001b[0;34m\u001b[0m\u001b[0;34m\u001b[0m\u001b[0m\n\u001b[0m\u001b[1;32m      6\u001b[0m \u001b[0;34m\u001b[0m\u001b[0m\n\u001b[1;32m      7\u001b[0m \u001b[0mprint\u001b[0m\u001b[0;34m(\u001b[0m\u001b[0mdf\u001b[0m\u001b[0;34m)\u001b[0m\u001b[0;34m\u001b[0m\u001b[0;34m\u001b[0m\u001b[0m\n",
            "\u001b[0;32m/usr/local/lib/python3.10/dist-packages/pandas/core/frame.py\u001b[0m in \u001b[0;36m__init__\u001b[0;34m(self, data, index, columns, dtype, copy)\u001b[0m\n\u001b[1;32m    884\u001b[0m         \u001b[0;32melse\u001b[0m\u001b[0;34m:\u001b[0m\u001b[0;34m\u001b[0m\u001b[0;34m\u001b[0m\u001b[0m\n\u001b[1;32m    885\u001b[0m             \u001b[0;32mif\u001b[0m \u001b[0mindex\u001b[0m \u001b[0;32mis\u001b[0m \u001b[0;32mNone\u001b[0m \u001b[0;32mor\u001b[0m \u001b[0mcolumns\u001b[0m \u001b[0;32mis\u001b[0m \u001b[0;32mNone\u001b[0m\u001b[0;34m:\u001b[0m\u001b[0;34m\u001b[0m\u001b[0;34m\u001b[0m\u001b[0m\n\u001b[0;32m--> 886\u001b[0;31m                 \u001b[0;32mraise\u001b[0m \u001b[0mValueError\u001b[0m\u001b[0;34m(\u001b[0m\u001b[0;34m\"DataFrame constructor not properly called!\"\u001b[0m\u001b[0;34m)\u001b[0m\u001b[0;34m\u001b[0m\u001b[0;34m\u001b[0m\u001b[0m\n\u001b[0m\u001b[1;32m    887\u001b[0m \u001b[0;34m\u001b[0m\u001b[0m\n\u001b[1;32m    888\u001b[0m             \u001b[0mindex\u001b[0m \u001b[0;34m=\u001b[0m \u001b[0mensure_index\u001b[0m\u001b[0;34m(\u001b[0m\u001b[0mindex\u001b[0m\u001b[0;34m)\u001b[0m\u001b[0;34m\u001b[0m\u001b[0;34m\u001b[0m\u001b[0m\n",
            "\u001b[0;31mValueError\u001b[0m: DataFrame constructor not properly called!"
          ]
        }
      ],
      "source": []
    },
    {
      "cell_type": "markdown",
      "id": "4508bab6",
      "metadata": {
        "id": "4508bab6"
      },
      "source": [
        "3.2 (0.5 pkt.) Wybierz zawartość kolumny czas i wyświetl jej zawartość.\n",
        "Kolumny wybieramy jako df[\\<nazwa kolumny\\>].\n",
        "\n",
        "Zamień zawartość kolumny \"Czas\" na typ datetime (pd.to_datetime(\\<wybrana kolumna\\>)) i podstaw pod kolumnę \"Czas\""
      ]
    },
    {
      "cell_type": "code",
      "execution_count": null,
      "id": "7485a51f",
      "metadata": {
        "id": "7485a51f"
      },
      "outputs": [],
      "source": []
    },
    {
      "cell_type": "markdown",
      "id": "076126c8",
      "metadata": {
        "id": "076126c8"
      },
      "source": [
        "3.3 (1 pkt.) Utwórz kolumnę \"Temperatura (°C) (k-1)\" zawierającą temperaturę z poprzedniej godziny. Uzyj funkcji shift (https://pandas.pydata.org/docs/reference/api/pandas.DataFrame.shift.html)."
      ]
    },
    {
      "cell_type": "code",
      "execution_count": null,
      "id": "194dcdb6",
      "metadata": {
        "id": "194dcdb6"
      },
      "outputs": [],
      "source": []
    },
    {
      "cell_type": "markdown",
      "id": "d93a0118",
      "metadata": {
        "id": "d93a0118"
      },
      "source": [
        "3.4 (1.5 pkt.) Utwórz jeden wykres zawierający wartości z kolumn \"Temperatura (°C)\" i \"Temperatura (°C) (k-1)\" jako wykresy liniowe. Użyj biblioteki matplotlib. Dodaj opis osi i legendę."
      ]
    },
    {
      "cell_type": "code",
      "execution_count": null,
      "id": "925e5130",
      "metadata": {
        "id": "925e5130"
      },
      "outputs": [],
      "source": []
    }
  ],
  "metadata": {
    "kernelspec": {
      "display_name": "Python 3 (ipykernel)",
      "language": "python",
      "name": "python3"
    },
    "language_info": {
      "codemirror_mode": {
        "name": "ipython",
        "version": 3
      },
      "file_extension": ".py",
      "mimetype": "text/x-python",
      "name": "python",
      "nbconvert_exporter": "python",
      "pygments_lexer": "ipython3",
      "version": "3.11.10"
    },
    "colab": {
      "provenance": []
    }
  },
  "nbformat": 4,
  "nbformat_minor": 5
}